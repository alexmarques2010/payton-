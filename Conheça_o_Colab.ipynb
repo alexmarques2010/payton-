{
  "cells": [
    {
      "cell_type": "markdown",
      "metadata": {
        "id": "view-in-github",
        "colab_type": "text"
      },
      "source": [
        "<a href=\"https://colab.research.google.com/github/alexmarques2010/payton-/blob/main/Conhe%C3%A7a_o_Colab.ipynb\" target=\"_parent\"><img src=\"https://colab.research.google.com/assets/colab-badge.svg\" alt=\"Open In Colab\"/></a>"
      ]
    },
    {
      "cell_type": "code",
      "source": [
        "print(\"eu gosto de futebol\")"
      ],
      "metadata": {
        "id": "FaFKKdisj7tp",
        "outputId": "342480c5-535c-45d5-ee14-734cea49f0ef",
        "colab": {
          "base_uri": "https://localhost:8080/"
        }
      },
      "execution_count": null,
      "outputs": [
        {
          "output_type": "stream",
          "name": "stdout",
          "text": [
            "eu gosto de futebol\n"
          ]
        }
      ]
    },
    {
      "cell_type": "code",
      "source": [
        " ano= \"antonhy lindo\"\n",
        "\n",
        " print(ano,\"sinto q o joão nao gosta de mim\")"
      ],
      "metadata": {
        "id": "cqZqGvw9iK7G",
        "outputId": "db60fe76-63e6-4dcc-8122-549f3fab9bfc",
        "colab": {
          "base_uri": "https://localhost:8080/"
        }
      },
      "execution_count": null,
      "outputs": [
        {
          "output_type": "stream",
          "name": "stdout",
          "text": [
            "antonhy baitola sinto q o joão nao gosta de mim\n"
          ]
        }
      ]
    },
    {
      "cell_type": "code",
      "source": [
        "AULA 02\n",
        "\n",
        "Contexto:\n",
        "Uma escola está promovendo uma campanha de incentivo à leitura, em que cada estudante recebe pontos ao concluir livros. Esses pontos podem ser trocados por diferentes premios da escola. As categorias de livros têm valores de pontos diferentes:\n",
        "\n",
        "Livro de ficção: 10 pontos\n",
        "Livro de não-ficção: 8 pontos\n",
        "Livro infantil: 6 pontos\n",
        "\n",
        "Rodrigo leu um livro de cada categoria. Agora ele quer saber quantos pontos acumulou com sua leitura.\n",
        "Nosso objetivo é criar um programa em Python que:\n",
        "\n",
        "Armazene a pontuação de cada categoria de livro em uma variável.\n",
        "Calcule o total de pontos acumulados por Rodrigo.\n",
        "Mostre na tela o total de pontos acumulados por Rodrigo.\n",
        "\n"
      ],
      "metadata": {
        "id": "OplkarrW6Drw"
      },
      "execution_count": null,
      "outputs": []
    },
    {
      "cell_type": "code",
      "source": [
        "ficcao=10\n",
        "nficcao=8\n",
        "infantil=6\n",
        "\n",
        "livros_lidos = 3;\n",
        "\n",
        "pontos =(ficcao + nficcao + infantil)\n",
        "\n",
        "pontos_totais = (ficcao*3 + nficcao*3 infantil*3)\n",
        "\n",
        "print(\"A soma dos pontos de rodrigo, após três dias é {pontos totais}\")\n",
        "\n",
        "print(\"\")"
      ],
      "metadata": {
        "id": "3nOgyPHr6IYb",
        "outputId": "e675b510-0253-419c-f16f-88ad40f68dbd",
        "colab": {
          "base_uri": "https://localhost:8080/",
          "height": 106
        }
      },
      "execution_count": 3,
      "outputs": [
        {
          "output_type": "error",
          "ename": "SyntaxError",
          "evalue": "invalid syntax. Perhaps you forgot a comma? (ipython-input-60934169.py, line 9)",
          "traceback": [
            "\u001b[0;36m  File \u001b[0;32m\"/tmp/ipython-input-60934169.py\"\u001b[0;36m, line \u001b[0;32m9\u001b[0m\n\u001b[0;31m    pontos_totais = (ficcao*3 + nficcao*3 infantil*3)\u001b[0m\n\u001b[0m                     ^\u001b[0m\n\u001b[0;31mSyntaxError\u001b[0m\u001b[0;31m:\u001b[0m invalid syntax. Perhaps you forgot a comma?\n"
          ]
        }
      ]
    }
  ],
  "metadata": {
    "colab": {
      "name": "Conheça o Colab",
      "toc_visible": true,
      "provenance": [],
      "include_colab_link": true
    },
    "kernelspec": {
      "display_name": "Python 3",
      "name": "python3"
    }
  },
  "nbformat": 4,
  "nbformat_minor": 0
}