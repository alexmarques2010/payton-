{
  "cells": [
    {
      "cell_type": "markdown",
      "metadata": {
        "id": "view-in-github",
        "colab_type": "text"
      },
      "source": [
        "<a href=\"https://colab.research.google.com/github/alexmarques2010/payton-/blob/main/Conhe%C3%A7a_o_Colab.ipynb\" target=\"_parent\"><img src=\"https://colab.research.google.com/assets/colab-badge.svg\" alt=\"Open In Colab\"/></a>"
      ]
    },
    {
      "cell_type": "code",
      "source": [
        "print(\"eu gosto de futebol\")"
      ],
      "metadata": {
        "id": "FaFKKdisj7tp",
        "outputId": "342480c5-535c-45d5-ee14-734cea49f0ef",
        "colab": {
          "base_uri": "https://localhost:8080/"
        }
      },
      "execution_count": 2,
      "outputs": [
        {
          "output_type": "stream",
          "name": "stdout",
          "text": [
            "eu gosto de futebol\n"
          ]
        }
      ]
    },
    {
      "cell_type": "code",
      "source": [
        " ano= \"antonhy baitola\"\n",
        "\n",
        " print(ano,\"sinto q o joão nao gosta de mim\")"
      ],
      "metadata": {
        "id": "cqZqGvw9iK7G",
        "outputId": "db60fe76-63e6-4dcc-8122-549f3fab9bfc",
        "colab": {
          "base_uri": "https://localhost:8080/"
        }
      },
      "execution_count": 6,
      "outputs": [
        {
          "output_type": "stream",
          "name": "stdout",
          "text": [
            "antonhy baitola sinto q o joão nao gosta de mim\n"
          ]
        }
      ]
    }
  ],
  "metadata": {
    "colab": {
      "name": "Conheça o Colab",
      "toc_visible": true,
      "provenance": [],
      "include_colab_link": true
    },
    "kernelspec": {
      "display_name": "Python 3",
      "name": "python3"
    }
  },
  "nbformat": 4,
  "nbformat_minor": 0
}